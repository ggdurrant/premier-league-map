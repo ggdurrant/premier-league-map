{
 "cells": [
  {
   "cell_type": "code",
   "execution_count": null,
   "metadata": {},
   "outputs": [],
   "source": [
    "def stack_nationality_by_year(year):\n",
    "    stacked = df[df['Year']==year]\n",
    "    first = stacked.loc[stacked['Rank']==1, 'Count'].values[0]\n",
    "    second = stacked.loc[stacked['Rank']==2, 'Count'].values[0]\n",
    "    third = stacked.loc[stacked['Rank']==3, 'Count'].values[0]\n",
    "    fourth = stacked.loc[stacked['Rank']==4, 'Count'].values[0]\n",
    "    fifth = stacked.loc[stacked['Rank']==5, 'Count'].values[0]\n",
    "    total = df.loc[df['Year']==year, 'Count'].values.sum()\n",
    "    other = total-first-second-third-fourth-fifth\n",
    "\n",
    "    fig, ax = plt.subplots(figsize=(8,10))\n",
    "    ax.bar(2.5, first, 1, label=stacked.loc[stacked['Rank']==1, 'Nation'].values[0])\n",
    "    ax.bar(2.5, second, 1, label=stacked.loc[stacked['Rank']==2, 'Nation'].values[0], bottom=first)\n",
    "    ax.bar(2.5, third, 1, label=stacked.loc[stacked['Rank']==3, 'Nation'].values[0], bottom=first+second)\n",
    "    ax.bar(2.5, fourth, 1, label=stacked.loc[stacked['Rank']==4, 'Nation'].values[0], bottom=first+second+third)\n",
    "    ax.bar(2.5, fifth, 1, label=stacked.loc[stacked['Rank']==5, 'Nation'].values[0], bottom=first+second+third+fourth)\n",
    "    ax.bar(2.5, other, 1, label='Other', bottom=total-other)\n",
    "    ax.set_xlim([0,5])\n",
    "    ax.set(title='Top Five Nationalities in the PL by Number of Players', xlabel=year, ylabel='Count')\n",
    "    ax.legend(labels=[stacked.loc[stacked['Rank']==1, 'Nation'].values[0], stacked.loc[stacked['Rank']==2, 'Nation'].values[0], stacked.loc[stacked['Rank']==3, 'Nation'].values[0], stacked.loc[stacked['Rank']==4, 'Nation'].values[0], stacked.loc[stacked['Rank']==5, 'Nation'].values[0], 'Other'])\n",
    "\n",
    "stack_nationality_by_year(2016)"
   ]
  },
  {
   "cell_type": "code",
   "execution_count": null,
   "metadata": {},
   "outputs": [],
   "source": [
    "year = 2022\n",
    "stacked = df[df['Year']==year]\n",
    "fig, ax = plt.subplots(figsize=(8,10))\n",
    "# n_colors = 12\n",
    "# colors = sns.color_palette('Spectral', n_colors=n_colors)\n",
    "colors = plt.cm.get_cmap('hsv', 24)\n",
    "bottom = 0\n",
    "for rank in range(1,13):\n",
    "    count = stacked.loc[stacked['Rank']==rank, 'Count'].values[0]\n",
    "    nation = stacked.loc[stacked['Rank']==rank, 'Nation'].values[0]\n",
    "    ax.bar(2.5, count, 1, label=nation, bottom=bottom, color=colors(np.random.randint(24)))\n",
    "    bottom += count\n",
    "total = df.loc[df['Year']==year, 'Count'].values.sum()\n",
    "other = total-bottom\n",
    "ax.bar(2.5, other, 1, label=nation, bottom=bottom, color='green')\n",
    "ax.set_xlim([0,5])"
   ]
  }
 ],
 "metadata": {
  "kernelspec": {
   "display_name": "base",
   "language": "python",
   "name": "python3"
  },
  "language_info": {
   "codemirror_mode": {
    "name": "ipython",
    "version": 3
   },
   "file_extension": ".py",
   "mimetype": "text/x-python",
   "name": "python",
   "nbconvert_exporter": "python",
   "pygments_lexer": "ipython3",
   "version": "3.8.8 (default, Apr 13 2021, 15:08:03) [MSC v.1916 64 bit (AMD64)]"
  },
  "orig_nbformat": 4,
  "vscode": {
   "interpreter": {
    "hash": "ff4f85d6e04298634172ac5d8264e7e9b556b95639fe52ebb9425c4d4cba0c9c"
   }
  }
 },
 "nbformat": 4,
 "nbformat_minor": 2
}
